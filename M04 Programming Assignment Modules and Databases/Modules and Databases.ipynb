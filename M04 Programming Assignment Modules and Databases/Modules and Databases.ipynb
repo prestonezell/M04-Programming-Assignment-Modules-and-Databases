{
 "cells": [
  {
   "cell_type": "markdown",
   "id": "e9ff0eb6",
   "metadata": {},
   "source": [
    "11.1 Create a file called zoo.py. In it, define a function called hours() that prints the string 'Open 9-5 daily'. Then, use the interactive interpreter to import the zoo module and call its hours() function."
   ]
  },
  {
   "cell_type": "code",
   "execution_count": 3,
   "id": "c4d72efe",
   "metadata": {},
   "outputs": [
    {
     "name": "stdout",
     "output_type": "stream",
     "text": [
      "Open 9-5 daily\n"
     ]
    }
   ],
   "source": [
    "import zoo\n",
    "zoo.hours()"
   ]
  },
  {
   "cell_type": "markdown",
   "id": "17d6e505",
   "metadata": {},
   "source": [
    "11.2 In the interactive interpreter, import the zoo module as menagerie and call its hours() function."
   ]
  },
  {
   "cell_type": "code",
   "execution_count": 2,
   "id": "938d157e",
   "metadata": {},
   "outputs": [
    {
     "name": "stdout",
     "output_type": "stream",
     "text": [
      "Open 9-5 daily\n"
     ]
    }
   ],
   "source": [
    "import zoo as menagerie\n",
    "menagerie.hours()"
   ]
  },
  {
   "cell_type": "markdown",
   "id": "45724610",
   "metadata": {},
   "source": [
    "16.8 Use the sqlalchemy module to connect to the sqlite3 database books.db that you just made in exercise 16.4. As in 16.6, select and print the title column from the book table in alphabetical order."
   ]
  },
  {
   "cell_type": "code",
   "execution_count": 4,
   "id": "a46f4956",
   "metadata": {},
   "outputs": [
    {
     "name": "stdout",
     "output_type": "stream",
     "text": [
      "Perdido Street Station\n",
      "Small Gods\n",
      "The Spellman Files\n",
      "The Weirdstone of Brisingamen\n",
      "Thud!\n"
     ]
    }
   ],
   "source": [
    "from sqlalchemy import create_engine, select, Table, Column, MetaData\n",
    "\n",
    "# Create SQLAlchemy engine to connect to SQLite database\n",
    "engine = create_engine('sqlite:///books.db', echo = False)  # Change echo to False for no logging\n",
    "\n",
    "# Create SQLAlchemy metadata object\n",
    "metadata = MetaData()\n",
    "\n",
    "# Define books table\n",
    "books = Table('books', metadata, autoload = True, autoload_with = engine)\n",
    "\n",
    "# Create SQLAlchemy connection\n",
    "conn = engine.connect()\n",
    "\n",
    "# Build select query to retrieve title column in alphabetical order\n",
    "select_query = select([books.c.title]).order_by(books.c.title.asc())\n",
    "\n",
    "# Execute query / fetch results\n",
    "results = conn.execute(select_query).fetchall()\n",
    "\n",
    "# Print titles\n",
    "for row in results:\n",
    "    print(row[0])  # Access title result row\n",
    "\n",
    "# Close connection\n",
    "conn.close()"
   ]
  }
 ],
 "metadata": {
  "kernelspec": {
   "display_name": "Python 3 (ipykernel)",
   "language": "python",
   "name": "python3"
  },
  "language_info": {
   "codemirror_mode": {
    "name": "ipython",
    "version": 3
   },
   "file_extension": ".py",
   "mimetype": "text/x-python",
   "name": "python",
   "nbconvert_exporter": "python",
   "pygments_lexer": "ipython3",
   "version": "3.11.4"
  }
 },
 "nbformat": 4,
 "nbformat_minor": 5
}
